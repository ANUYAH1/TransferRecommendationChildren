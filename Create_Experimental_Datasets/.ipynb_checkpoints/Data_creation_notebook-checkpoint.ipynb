{
 "cells": [
  {
   "cell_type": "markdown",
   "metadata": {},
   "source": [
    "### Import Libraries"
   ]
  },
  {
   "cell_type": "code",
   "execution_count": 1,
   "metadata": {},
   "outputs": [
    {
     "name": "stderr",
     "output_type": "stream",
     "text": [
      "C:\\Users\\Oghenemaro Anuyah\\AppData\\Local\\conda\\conda\\envs\\my_root\\lib\\site-packages\\sklearn\\cross_validation.py:41: DeprecationWarning: This module was deprecated in version 0.18 in favor of the model_selection module into which all the refactored classes and functions are moved. Also note that the interface of the new CV iterators are different from that of this module. This module will be removed in 0.20.\n",
      "  \"This module will be removed in 0.20.\", DeprecationWarning)\n"
     ]
    }
   ],
   "source": [
    "import pandas as pd\n",
    "from sklearn import cross_validation"
   ]
  },
  {
   "cell_type": "markdown",
   "metadata": {},
   "source": [
    "### Read Data\n",
    "\n",
    "\n",
    "A. Children's movie ratings"
   ]
  },
  {
   "cell_type": "code",
   "execution_count": 2,
   "metadata": {},
   "outputs": [
    {
     "name": "stderr",
     "output_type": "stream",
     "text": [
      "C:\\Users\\Oghenemaro Anuyah\\AppData\\Local\\conda\\conda\\envs\\my_root\\lib\\site-packages\\ipykernel_launcher.py:1: ParserWarning: Falling back to the 'python' engine because the 'c' engine does not support regex separators (separators > 1 char and different from '\\s+' are interpreted as regex); you can avoid this warning by specifying engine='python'.\n",
      "  \"\"\"Entry point for launching an IPython kernel.\n"
     ]
    },
    {
     "data": {
      "text/html": [
       "<div>\n",
       "<style>\n",
       "    .dataframe thead tr:only-child th {\n",
       "        text-align: right;\n",
       "    }\n",
       "\n",
       "    .dataframe thead th {\n",
       "        text-align: left;\n",
       "    }\n",
       "\n",
       "    .dataframe tbody tr th {\n",
       "        vertical-align: top;\n",
       "    }\n",
       "</style>\n",
       "<table border=\"1\" class=\"dataframe\">\n",
       "  <thead>\n",
       "    <tr style=\"text-align: right;\">\n",
       "      <th></th>\n",
       "      <th>user</th>\n",
       "      <th>item</th>\n",
       "      <th>ratings</th>\n",
       "    </tr>\n",
       "  </thead>\n",
       "  <tbody>\n",
       "    <tr>\n",
       "      <th>0</th>\n",
       "      <td>1000001</td>\n",
       "      <td>4886</td>\n",
       "      <td>5</td>\n",
       "    </tr>\n",
       "    <tr>\n",
       "      <th>1</th>\n",
       "      <td>1000002</td>\n",
       "      <td>586</td>\n",
       "      <td>4</td>\n",
       "    </tr>\n",
       "    <tr>\n",
       "      <th>2</th>\n",
       "      <td>1000002</td>\n",
       "      <td>1032</td>\n",
       "      <td>3</td>\n",
       "    </tr>\n",
       "    <tr>\n",
       "      <th>3</th>\n",
       "      <td>1000002</td>\n",
       "      <td>1394</td>\n",
       "      <td>3</td>\n",
       "    </tr>\n",
       "    <tr>\n",
       "      <th>4</th>\n",
       "      <td>1000002</td>\n",
       "      <td>2392</td>\n",
       "      <td>5</td>\n",
       "    </tr>\n",
       "  </tbody>\n",
       "</table>\n",
       "</div>"
      ],
      "text/plain": [
       "      user  item  ratings\n",
       "0  1000001  4886        5\n",
       "1  1000002   586        4\n",
       "2  1000002  1032        3\n",
       "3  1000002  1394        3\n",
       "4  1000002  2392        5"
      ]
     },
     "execution_count": 2,
     "metadata": {},
     "output_type": "execute_result"
    }
   ],
   "source": [
    "childrenData = pd.read_csv(\"../data/input/childrenData/ratings.dat\", sep=\"::\", names = [\"user\", \"item\", \"ratings\", \"x\"])\n",
    "childrenData = childrenData[[\"user\", \"item\", \"ratings\"]]\n",
    "childrenData[\"user\"] = [1000000 + x for x in childrenData.user]\n",
    "childrenData.head()"
   ]
  },
  {
   "cell_type": "code",
   "execution_count": 3,
   "metadata": {
    "collapsed": true
   },
   "outputs": [],
   "source": [
    "children_movies = set([x for x in childrenData.item])\n",
    "children_users = set([x for x in childrenData.user])"
   ]
  },
  {
   "cell_type": "code",
   "execution_count": 4,
   "metadata": {
    "scrolled": true
   },
   "outputs": [
    {
     "data": {
      "text/html": [
       "<style  type=\"text/css\" >\n",
       "</style>  \n",
       "<table id=\"T_40cc6966_9e8f_11e8_97b9_2c6e8565ca10\" > \n",
       "<thead>    <tr> \n",
       "        <th class=\"blank level0\" ></th> \n",
       "        <th class=\"col_heading level0 col0\" >user</th> \n",
       "        <th class=\"col_heading level0 col1\" >item</th> \n",
       "        <th class=\"col_heading level0 col2\" >ratings</th> \n",
       "    </tr></thead> \n",
       "<tbody>    <tr> \n",
       "        <th id=\"T_40cc6966_9e8f_11e8_97b9_2c6e8565ca10level0_row0\" class=\"row_heading level0 row0\" >count</th> \n",
       "        <td id=\"T_40cc6966_9e8f_11e8_97b9_2c6e8565ca10row0_col0\" class=\"data row0 col0\" >34077</td> \n",
       "        <td id=\"T_40cc6966_9e8f_11e8_97b9_2c6e8565ca10row0_col1\" class=\"data row0 col1\" >34077</td> \n",
       "        <td id=\"T_40cc6966_9e8f_11e8_97b9_2c6e8565ca10row0_col2\" class=\"data row0 col2\" >34077</td> \n",
       "    </tr>    <tr> \n",
       "        <th id=\"T_40cc6966_9e8f_11e8_97b9_2c6e8565ca10level0_row1\" class=\"row_heading level0 row1\" >mean</th> \n",
       "        <td id=\"T_40cc6966_9e8f_11e8_97b9_2c6e8565ca10row1_col0\" class=\"data row1 col0\" >1003778</td> \n",
       "        <td id=\"T_40cc6966_9e8f_11e8_97b9_2c6e8565ca10row1_col1\" class=\"data row1 col1\" >4984</td> \n",
       "        <td id=\"T_40cc6966_9e8f_11e8_97b9_2c6e8565ca10row1_col2\" class=\"data row1 col2\" >   5</td> \n",
       "    </tr>    <tr> \n",
       "        <th id=\"T_40cc6966_9e8f_11e8_97b9_2c6e8565ca10level0_row2\" class=\"row_heading level0 row2\" >std</th> \n",
       "        <td id=\"T_40cc6966_9e8f_11e8_97b9_2c6e8565ca10row2_col0\" class=\"data row2 col0\" >3321</td> \n",
       "        <td id=\"T_40cc6966_9e8f_11e8_97b9_2c6e8565ca10row2_col1\" class=\"data row2 col1\" >1070</td> \n",
       "        <td id=\"T_40cc6966_9e8f_11e8_97b9_2c6e8565ca10row2_col2\" class=\"data row2 col2\" >   1</td> \n",
       "    </tr>    <tr> \n",
       "        <th id=\"T_40cc6966_9e8f_11e8_97b9_2c6e8565ca10level0_row3\" class=\"row_heading level0 row3\" >min</th> \n",
       "        <td id=\"T_40cc6966_9e8f_11e8_97b9_2c6e8565ca10row3_col0\" class=\"data row3 col0\" >1000001</td> \n",
       "        <td id=\"T_40cc6966_9e8f_11e8_97b9_2c6e8565ca10row3_col1\" class=\"data row3 col1\" >   1</td> \n",
       "        <td id=\"T_40cc6966_9e8f_11e8_97b9_2c6e8565ca10row3_col2\" class=\"data row3 col2\" >   1</td> \n",
       "    </tr>    <tr> \n",
       "        <th id=\"T_40cc6966_9e8f_11e8_97b9_2c6e8565ca10level0_row4\" class=\"row_heading level0 row4\" >25%</th> \n",
       "        <td id=\"T_40cc6966_9e8f_11e8_97b9_2c6e8565ca10row4_col0\" class=\"data row4 col0\" >1000988</td> \n",
       "        <td id=\"T_40cc6966_9e8f_11e8_97b9_2c6e8565ca10row4_col1\" class=\"data row4 col1\" >4495</td> \n",
       "        <td id=\"T_40cc6966_9e8f_11e8_97b9_2c6e8565ca10row4_col2\" class=\"data row4 col2\" >   5</td> \n",
       "    </tr>    <tr> \n",
       "        <th id=\"T_40cc6966_9e8f_11e8_97b9_2c6e8565ca10level0_row5\" class=\"row_heading level0 row5\" >50%</th> \n",
       "        <td id=\"T_40cc6966_9e8f_11e8_97b9_2c6e8565ca10row5_col0\" class=\"data row5 col0\" >1002726</td> \n",
       "        <td id=\"T_40cc6966_9e8f_11e8_97b9_2c6e8565ca10row5_col1\" class=\"data row5 col1\" >5069</td> \n",
       "        <td id=\"T_40cc6966_9e8f_11e8_97b9_2c6e8565ca10row5_col2\" class=\"data row5 col2\" >   5</td> \n",
       "    </tr>    <tr> \n",
       "        <th id=\"T_40cc6966_9e8f_11e8_97b9_2c6e8565ca10level0_row6\" class=\"row_heading level0 row6\" >75%</th> \n",
       "        <td id=\"T_40cc6966_9e8f_11e8_97b9_2c6e8565ca10row6_col0\" class=\"data row6 col0\" >1005968</td> \n",
       "        <td id=\"T_40cc6966_9e8f_11e8_97b9_2c6e8565ca10row6_col1\" class=\"data row6 col1\" >5726</td> \n",
       "        <td id=\"T_40cc6966_9e8f_11e8_97b9_2c6e8565ca10row6_col2\" class=\"data row6 col2\" >   5</td> \n",
       "    </tr>    <tr> \n",
       "        <th id=\"T_40cc6966_9e8f_11e8_97b9_2c6e8565ca10level0_row7\" class=\"row_heading level0 row7\" >max</th> \n",
       "        <td id=\"T_40cc6966_9e8f_11e8_97b9_2c6e8565ca10row7_col0\" class=\"data row7 col0\" >1012359</td> \n",
       "        <td id=\"T_40cc6966_9e8f_11e8_97b9_2c6e8565ca10row7_col1\" class=\"data row7 col1\" >6405</td> \n",
       "        <td id=\"T_40cc6966_9e8f_11e8_97b9_2c6e8565ca10row7_col2\" class=\"data row7 col2\" >   5</td> \n",
       "    </tr></tbody> \n",
       "</table> "
      ],
      "text/plain": [
       "<pandas.io.formats.style.Styler at 0x1cad3151278>"
      ]
     },
     "execution_count": 4,
     "metadata": {},
     "output_type": "execute_result"
    }
   ],
   "source": [
    "childrenData.describe().style.format({'user': \"{:4.0f}\", 'item': \"{:4.0f}\", 'ratings': \"{:4.0f}\"})"
   ]
  },
  {
   "cell_type": "markdown",
   "metadata": {},
   "source": [
    "B. Movie Lens"
   ]
  },
  {
   "cell_type": "code",
   "execution_count": 5,
   "metadata": {},
   "outputs": [
    {
     "name": "stderr",
     "output_type": "stream",
     "text": [
      "C:\\Users\\Oghenemaro Anuyah\\AppData\\Local\\conda\\conda\\envs\\my_root\\lib\\site-packages\\ipykernel_launcher.py:1: ParserWarning: Falling back to the 'python' engine because the 'c' engine does not support regex separators (separators > 1 char and different from '\\s+' are interpreted as regex); you can avoid this warning by specifying engine='python'.\n",
      "  \"\"\"Entry point for launching an IPython kernel.\n"
     ]
    }
   ],
   "source": [
    "movie_lens_data = pd.read_csv(\"../data/input/ML1M/ratings.dat\", sep = \"::\", names = [\"user\", \"item\", \"ratings\", \"timestamp\"])"
   ]
  },
  {
   "cell_type": "code",
   "execution_count": 6,
   "metadata": {
    "collapsed": true
   },
   "outputs": [],
   "source": [
    "movie_lens_data = movie_lens_data[[\"user\", \"item\", \"ratings\"]]"
   ]
  },
  {
   "cell_type": "code",
   "execution_count": 7,
   "metadata": {
    "scrolled": true
   },
   "outputs": [
    {
     "data": {
      "text/html": [
       "<style  type=\"text/css\" >\n",
       "</style>  \n",
       "<table id=\"T_480bc236_9e8f_11e8_9002_2c6e8565ca10\" > \n",
       "<thead>    <tr> \n",
       "        <th class=\"blank level0\" ></th> \n",
       "        <th class=\"col_heading level0 col0\" >user</th> \n",
       "        <th class=\"col_heading level0 col1\" >item</th> \n",
       "        <th class=\"col_heading level0 col2\" >ratings</th> \n",
       "    </tr></thead> \n",
       "<tbody>    <tr> \n",
       "        <th id=\"T_480bc236_9e8f_11e8_9002_2c6e8565ca10level0_row0\" class=\"row_heading level0 row0\" >count</th> \n",
       "        <td id=\"T_480bc236_9e8f_11e8_9002_2c6e8565ca10row0_col0\" class=\"data row0 col0\" >1000209</td> \n",
       "        <td id=\"T_480bc236_9e8f_11e8_9002_2c6e8565ca10row0_col1\" class=\"data row0 col1\" >1000209</td> \n",
       "        <td id=\"T_480bc236_9e8f_11e8_9002_2c6e8565ca10row0_col2\" class=\"data row0 col2\" >1000209</td> \n",
       "    </tr>    <tr> \n",
       "        <th id=\"T_480bc236_9e8f_11e8_9002_2c6e8565ca10level0_row1\" class=\"row_heading level0 row1\" >mean</th> \n",
       "        <td id=\"T_480bc236_9e8f_11e8_9002_2c6e8565ca10row1_col0\" class=\"data row1 col0\" >3025</td> \n",
       "        <td id=\"T_480bc236_9e8f_11e8_9002_2c6e8565ca10row1_col1\" class=\"data row1 col1\" >1866</td> \n",
       "        <td id=\"T_480bc236_9e8f_11e8_9002_2c6e8565ca10row1_col2\" class=\"data row1 col2\" >   4</td> \n",
       "    </tr>    <tr> \n",
       "        <th id=\"T_480bc236_9e8f_11e8_9002_2c6e8565ca10level0_row2\" class=\"row_heading level0 row2\" >std</th> \n",
       "        <td id=\"T_480bc236_9e8f_11e8_9002_2c6e8565ca10row2_col0\" class=\"data row2 col0\" >1728</td> \n",
       "        <td id=\"T_480bc236_9e8f_11e8_9002_2c6e8565ca10row2_col1\" class=\"data row2 col1\" >1096</td> \n",
       "        <td id=\"T_480bc236_9e8f_11e8_9002_2c6e8565ca10row2_col2\" class=\"data row2 col2\" >   1</td> \n",
       "    </tr>    <tr> \n",
       "        <th id=\"T_480bc236_9e8f_11e8_9002_2c6e8565ca10level0_row3\" class=\"row_heading level0 row3\" >min</th> \n",
       "        <td id=\"T_480bc236_9e8f_11e8_9002_2c6e8565ca10row3_col0\" class=\"data row3 col0\" >   1</td> \n",
       "        <td id=\"T_480bc236_9e8f_11e8_9002_2c6e8565ca10row3_col1\" class=\"data row3 col1\" >   1</td> \n",
       "        <td id=\"T_480bc236_9e8f_11e8_9002_2c6e8565ca10row3_col2\" class=\"data row3 col2\" >   1</td> \n",
       "    </tr>    <tr> \n",
       "        <th id=\"T_480bc236_9e8f_11e8_9002_2c6e8565ca10level0_row4\" class=\"row_heading level0 row4\" >25%</th> \n",
       "        <td id=\"T_480bc236_9e8f_11e8_9002_2c6e8565ca10row4_col0\" class=\"data row4 col0\" >1506</td> \n",
       "        <td id=\"T_480bc236_9e8f_11e8_9002_2c6e8565ca10row4_col1\" class=\"data row4 col1\" >1030</td> \n",
       "        <td id=\"T_480bc236_9e8f_11e8_9002_2c6e8565ca10row4_col2\" class=\"data row4 col2\" >   3</td> \n",
       "    </tr>    <tr> \n",
       "        <th id=\"T_480bc236_9e8f_11e8_9002_2c6e8565ca10level0_row5\" class=\"row_heading level0 row5\" >50%</th> \n",
       "        <td id=\"T_480bc236_9e8f_11e8_9002_2c6e8565ca10row5_col0\" class=\"data row5 col0\" >3070</td> \n",
       "        <td id=\"T_480bc236_9e8f_11e8_9002_2c6e8565ca10row5_col1\" class=\"data row5 col1\" >1835</td> \n",
       "        <td id=\"T_480bc236_9e8f_11e8_9002_2c6e8565ca10row5_col2\" class=\"data row5 col2\" >   4</td> \n",
       "    </tr>    <tr> \n",
       "        <th id=\"T_480bc236_9e8f_11e8_9002_2c6e8565ca10level0_row6\" class=\"row_heading level0 row6\" >75%</th> \n",
       "        <td id=\"T_480bc236_9e8f_11e8_9002_2c6e8565ca10row6_col0\" class=\"data row6 col0\" >4476</td> \n",
       "        <td id=\"T_480bc236_9e8f_11e8_9002_2c6e8565ca10row6_col1\" class=\"data row6 col1\" >2770</td> \n",
       "        <td id=\"T_480bc236_9e8f_11e8_9002_2c6e8565ca10row6_col2\" class=\"data row6 col2\" >   4</td> \n",
       "    </tr>    <tr> \n",
       "        <th id=\"T_480bc236_9e8f_11e8_9002_2c6e8565ca10level0_row7\" class=\"row_heading level0 row7\" >max</th> \n",
       "        <td id=\"T_480bc236_9e8f_11e8_9002_2c6e8565ca10row7_col0\" class=\"data row7 col0\" >6040</td> \n",
       "        <td id=\"T_480bc236_9e8f_11e8_9002_2c6e8565ca10row7_col1\" class=\"data row7 col1\" >3952</td> \n",
       "        <td id=\"T_480bc236_9e8f_11e8_9002_2c6e8565ca10row7_col2\" class=\"data row7 col2\" >   5</td> \n",
       "    </tr></tbody> \n",
       "</table> "
      ],
      "text/plain": [
       "<pandas.io.formats.style.Styler at 0x1cad5df7908>"
      ]
     },
     "execution_count": 7,
     "metadata": {},
     "output_type": "execute_result"
    }
   ],
   "source": [
    "movie_lens_data.describe().style.format({'user': \"{:4.0f}\", 'item': \"{:4.0f}\", 'ratings': \"{:4.0f}\"})"
   ]
  },
  {
   "cell_type": "markdown",
   "metadata": {},
   "source": [
    "#### Create train and test sets for childrenData"
   ]
  },
  {
   "cell_type": "code",
   "execution_count": 8,
   "metadata": {
    "collapsed": true
   },
   "outputs": [],
   "source": [
    "childrenData_train, childrenData_test, yt, yy = cross_validation.train_test_split(childrenData, childrenData[\"user\"], random_state = 0, test_size = 0.4)"
   ]
  },
  {
   "cell_type": "code",
   "execution_count": 9,
   "metadata": {},
   "outputs": [
    {
     "data": {
      "text/plain": [
       "(20446, 13631)"
      ]
     },
     "execution_count": 9,
     "metadata": {},
     "output_type": "execute_result"
    }
   ],
   "source": [
    "len(childrenData_train), len(childrenData_test)"
   ]
  },
  {
   "cell_type": "code",
   "execution_count": 10,
   "metadata": {},
   "outputs": [
    {
     "data": {
      "text/plain": [
       "(8492, 1815)"
      ]
     },
     "execution_count": 10,
     "metadata": {},
     "output_type": "execute_result"
    }
   ],
   "source": [
    "len(set(childrenData_train.user)), len(set(childrenData_train.item))"
   ]
  },
  {
   "cell_type": "code",
   "execution_count": 11,
   "metadata": {},
   "outputs": [
    {
     "data": {
      "text/plain": [
       "(6671, 1577)"
      ]
     },
     "execution_count": 11,
     "metadata": {},
     "output_type": "execute_result"
    }
   ],
   "source": [
    "len(set(childrenData_test.user)), len(set(childrenData_test.item))"
   ]
  },
  {
   "cell_type": "code",
   "execution_count": 12,
   "metadata": {
    "collapsed": true
   },
   "outputs": [],
   "source": [
    "childrenData_train_users = set(childrenData_train.user)\n",
    "childrenData_test_users = set(childrenData_test.user)\n",
    "\n",
    "childrenData_train_items = set(childrenData_train.item)\n",
    "childrenData_test_items = set(childrenData_test.item)"
   ]
  },
  {
   "cell_type": "code",
   "execution_count": 13,
   "metadata": {
    "collapsed": true
   },
   "outputs": [],
   "source": [
    "user_in_test_not_train = childrenData_test_users - childrenData_train_users\n",
    "item_in_test_not_train = childrenData_test_items - childrenData_train_items"
   ]
  },
  {
   "cell_type": "code",
   "execution_count": 14,
   "metadata": {
    "collapsed": true
   },
   "outputs": [],
   "source": [
    "# Ensure that all users and items in the test set exist in the train set\n",
    "\n",
    "childrenData_test = childrenData_test[~(childrenData_test.user.isin(user_in_test_not_train)) & ~(childrenData_test.item.isin(item_in_test_not_train))]"
   ]
  },
  {
   "cell_type": "code",
   "execution_count": 15,
   "metadata": {},
   "outputs": [
    {
     "data": {
      "text/plain": [
       "10057"
      ]
     },
     "execution_count": 15,
     "metadata": {},
     "output_type": "execute_result"
    }
   ],
   "source": [
    "len(childrenData_test)"
   ]
  },
  {
   "cell_type": "code",
   "execution_count": null,
   "metadata": {
    "collapsed": true
   },
   "outputs": [],
   "source": [
    "childrenData_test.to_csv(\"../data/output/childrenData_test.csv\", index = False, header = False, sep = \":\")"
   ]
  },
  {
   "cell_type": "markdown",
   "metadata": {},
   "source": [
    "### Build dataset for second experiment\n",
    "\n",
    "\n",
    "    - This dataset includes all of movie lens data along with different variations of childrenData (based on the minimum number \n",
    "    of ratings)."
   ]
  },
  {
   "cell_type": "code",
   "execution_count": 16,
   "metadata": {
    "collapsed": true
   },
   "outputs": [],
   "source": [
    "# Get the summary of the total number of items rated by each user in childrenData\n",
    "\n",
    "childrenData_users_ratings_summary = childrenData_data.groupby(['user'])['ratings'].count().reset_index().rename(columns = {\"ratings\": \"number_of_ratings\"})"
   ]
  },
  {
   "cell_type": "code",
   "execution_count": 17,
   "metadata": {
    "collapsed": true
   },
   "outputs": [],
   "source": [
    "childrenData_users_ratings_summary = childrenData_users_ratings_summary[childrenData_users_ratings_summary.number_of_ratings > 1].reset_index(drop = True)"
   ]
  },
  {
   "cell_type": "code",
   "execution_count": 18,
   "metadata": {},
   "outputs": [
    {
     "data": {
      "text/html": [
       "<div>\n",
       "<style>\n",
       "    .dataframe thead tr:only-child th {\n",
       "        text-align: right;\n",
       "    }\n",
       "\n",
       "    .dataframe thead th {\n",
       "        text-align: left;\n",
       "    }\n",
       "\n",
       "    .dataframe tbody tr th {\n",
       "        vertical-align: top;\n",
       "    }\n",
       "</style>\n",
       "<table border=\"1\" class=\"dataframe\">\n",
       "  <thead>\n",
       "    <tr style=\"text-align: right;\">\n",
       "      <th></th>\n",
       "      <th>user</th>\n",
       "      <th>number_of_ratings</th>\n",
       "    </tr>\n",
       "  </thead>\n",
       "  <tbody>\n",
       "    <tr>\n",
       "      <th>0</th>\n",
       "      <td>1000002</td>\n",
       "      <td>54</td>\n",
       "    </tr>\n",
       "    <tr>\n",
       "      <th>1</th>\n",
       "      <td>1000003</td>\n",
       "      <td>9</td>\n",
       "    </tr>\n",
       "    <tr>\n",
       "      <th>2</th>\n",
       "      <td>1000004</td>\n",
       "      <td>3</td>\n",
       "    </tr>\n",
       "    <tr>\n",
       "      <th>3</th>\n",
       "      <td>1000005</td>\n",
       "      <td>7</td>\n",
       "    </tr>\n",
       "    <tr>\n",
       "      <th>4</th>\n",
       "      <td>1000006</td>\n",
       "      <td>15</td>\n",
       "    </tr>\n",
       "  </tbody>\n",
       "</table>\n",
       "</div>"
      ],
      "text/plain": [
       "      user  number_of_ratings\n",
       "0  1000002                 54\n",
       "1  1000003                  9\n",
       "2  1000004                  3\n",
       "3  1000005                  7\n",
       "4  1000006                 15"
      ]
     },
     "execution_count": 18,
     "metadata": {},
     "output_type": "execute_result"
    }
   ],
   "source": [
    "childrenData_users_ratings_summary.head()"
   ]
  },
  {
   "cell_type": "markdown",
   "metadata": {},
   "source": [
    "(i) All movie lens data plus childrenData users that rated at least 2 movies"
   ]
  },
  {
   "cell_type": "code",
   "execution_count": 19,
   "metadata": {
    "collapsed": true
   },
   "outputs": [],
   "source": [
    "childrenData_users_2_above_ratings = childrenData_users_ratings_summary[childrenData_users_ratings_summary.number_of_ratings >= 2].reset_index(drop = True)\n",
    "\n",
    "childrenData_train_users_2_above_ratings = childrenData_train[childrenData_train[\"user\"].isin(childrenData_users_2_above_ratings.user)]\n",
    "childrenData_test_users_2_above_ratings = childrenData_test[childrenData_test[\"user\"].isin(childrenData_users_2_above_ratings.user)]"
   ]
  },
  {
   "cell_type": "code",
   "execution_count": null,
   "metadata": {
    "collapsed": true
   },
   "outputs": [],
   "source": [
    "childrenData_test_users_2_above_ratings.to_csv(\"../data/output/childrenData_test_set_2_above_ratings.csv\", index = False, header = False, sep = \":\")"
   ]
  },
  {
   "cell_type": "markdown",
   "metadata": {},
   "source": [
    "- Data used in this experiment for training and testing "
   ]
  },
  {
   "cell_type": "code",
   "execution_count": 20,
   "metadata": {
    "collapsed": true
   },
   "outputs": [],
   "source": [
    "movie_lens_data_plus_childrenData_train_2_above_ratings = pd.concat([movie_lens_data, childrenData_train_users_2_above_ratings])\n",
    "\n",
    "childrenData_test_set_above_2_ratings = childrenData_test[childrenData_test[\"user\"].isin(childrenData_users_2_above_ratings.user)]"
   ]
  },
  {
   "cell_type": "code",
   "execution_count": 21,
   "metadata": {},
   "outputs": [
    {
     "data": {
      "text/plain": [
       "1017249"
      ]
     },
     "execution_count": 21,
     "metadata": {},
     "output_type": "execute_result"
    }
   ],
   "source": [
    "len(movie_lens_data_plus_childrenData_train_2_above_ratings)"
   ]
  },
  {
   "cell_type": "code",
   "execution_count": null,
   "metadata": {
    "collapsed": true
   },
   "outputs": [],
   "source": [
    "movie_lens_data_plus_childrenData_train_2_above_ratings.to_csv(\"../data/output/all_movie_lens_plus_childrenData_users_10_above_ratings.csv\", index = False, header = False, sep = \":\")"
   ]
  },
  {
   "cell_type": "markdown",
   "metadata": {},
   "source": [
    "(ii) All movie lens data plus childrenData users that rated at least 10 movies"
   ]
  },
  {
   "cell_type": "code",
   "execution_count": 22,
   "metadata": {
    "collapsed": true
   },
   "outputs": [],
   "source": [
    "childrenData_users_10_above_ratings = childrenData_users_ratings_summary[childrenData_users_ratings_summary.number_of_ratings >= 10].reset_index(drop = True)\n",
    "\n",
    "childrenData_train_users_10_above_ratings = childrenData_train[childrenData_train[\"user\"].isin(childrenData_users_10_above_ratings.user)]\n",
    "childrenData_test_users_10_above_ratings = childrenData_test[childrenData_test[\"user\"].isin(childrenData_users_10_above_ratings.user)]"
   ]
  },
  {
   "cell_type": "code",
   "execution_count": null,
   "metadata": {
    "collapsed": true
   },
   "outputs": [],
   "source": [
    "childrenData_test_users_10_above_ratings.to_csv(\"../data/output/childrenData_test_set_10_above_ratings.csv\", index = False, header = False, sep = \":\")"
   ]
  },
  {
   "cell_type": "markdown",
   "metadata": {},
   "source": [
    "- Data used in this experiment for training and testing "
   ]
  },
  {
   "cell_type": "code",
   "execution_count": 23,
   "metadata": {
    "collapsed": true
   },
   "outputs": [],
   "source": [
    "movie_lens_data_plus_childrenData_train_10_above_ratings = pd.concat([movie_lens_data, childrenData_train_users_10_above_ratings])\n",
    "\n",
    "childrenData_test_set_above_10_ratings = childrenData_test[childrenData_test[\"user\"].isin(childrenData_users_10_above_ratings.user)]"
   ]
  },
  {
   "cell_type": "code",
   "execution_count": 24,
   "metadata": {},
   "outputs": [
    {
     "data": {
      "text/plain": [
       "1007014"
      ]
     },
     "execution_count": 24,
     "metadata": {},
     "output_type": "execute_result"
    }
   ],
   "source": [
    "len(movie_lens_data_plus_childrenData_train_10_above_ratings)"
   ]
  },
  {
   "cell_type": "code",
   "execution_count": null,
   "metadata": {
    "collapsed": true
   },
   "outputs": [],
   "source": [
    "movie_lens_data_plus_childrenData_train_10_above_ratings.to_csv(\"../data/output/all_movie_lens_plus_childrenData_users_10_above_ratings.csv\", index = False, header = False, sep = \":\")"
   ]
  },
  {
   "cell_type": "markdown",
   "metadata": {},
   "source": [
    "(iii) All movie lens data plus childrenData users that rated at least 20 movies"
   ]
  },
  {
   "cell_type": "code",
   "execution_count": 25,
   "metadata": {
    "collapsed": true
   },
   "outputs": [],
   "source": [
    "childrenData_users_20_above_ratings = childrenData_users_ratings_summary[childrenData_users_ratings_summary.number_of_ratings >= 20].reset_index(drop = True)\n",
    "\n",
    "childrenData_train_users_20_above_ratings = childrenData_train[childrenData_train[\"user\"].isin(childrenData_users_20_above_ratings.user)]\n",
    "childrenData_test_users_20_above_ratings = childrenData_test[childrenData_test[\"user\"].isin(childrenData_users_20_above_ratings.user)]"
   ]
  },
  {
   "cell_type": "code",
   "execution_count": null,
   "metadata": {
    "collapsed": true
   },
   "outputs": [],
   "source": [
    "childrenData_test_users_20_above_ratings.to_csv(\"../data/output/childrenData_test_set_20_above_ratings.csv\", index = False, header = False, sep = \":\")"
   ]
  },
  {
   "cell_type": "markdown",
   "metadata": {},
   "source": [
    "- Data used in this experiment for training and testing "
   ]
  },
  {
   "cell_type": "code",
   "execution_count": 26,
   "metadata": {
    "collapsed": true
   },
   "outputs": [],
   "source": [
    "movie_lens_data_plus_childrenData_train_20_above_ratings = pd.concat([movie_lens_data, childrenData_train_users_20_above_ratings])\n",
    "\n",
    "childrenData_test_set_above_20_ratings = childrenData_test[childrenData_test[\"user\"].isin(childrenData_users_20_above_ratings.user)]"
   ]
  },
  {
   "cell_type": "code",
   "execution_count": 27,
   "metadata": {},
   "outputs": [
    {
     "data": {
      "text/plain": [
       "1003463"
      ]
     },
     "execution_count": 27,
     "metadata": {},
     "output_type": "execute_result"
    }
   ],
   "source": [
    "len(movie_lens_data_plus_childrenData_train_20_above_ratings)"
   ]
  },
  {
   "cell_type": "code",
   "execution_count": null,
   "metadata": {
    "collapsed": true
   },
   "outputs": [],
   "source": [
    "movie_lens_data_plus_childrenData_train_20_above_ratings.to_csv(\"../data/output/all_movie_lens_plus_childrenData_users_20_above_ratings.csv\", index = False, header = False, sep = \":\")"
   ]
  },
  {
   "cell_type": "markdown",
   "metadata": {},
   "source": [
    "### Build dataset for third experiment\n",
    "\n",
    "\n",
    "    - This dataset includes movie ratings provided by movie lens users that rated at least two movies for children, along with different varaitions of childrenData (based on the minimum number of ratings)."
   ]
  },
  {
   "cell_type": "code",
   "execution_count": 28,
   "metadata": {
    "collapsed": true
   },
   "outputs": [],
   "source": [
    "movie_lens_user_df = movie_lens_data.groupby('user', as_index = False)['item'].aggregate(lambda x: set(x[\"item\"]))\n",
    "\n",
    "movie_lens_user_df[\"item\"] = [list(x) for x in movie_lens_user_df.item]"
   ]
  },
  {
   "cell_type": "code",
   "execution_count": 29,
   "metadata": {
    "collapsed": true
   },
   "outputs": [],
   "source": [
    "movie_lens_user_df[\"has_rated_child_movies\"] = [any(x in children_movies for x in y) for y in movie_lens_user_df.item]"
   ]
  },
  {
   "cell_type": "code",
   "execution_count": 30,
   "metadata": {
    "collapsed": true
   },
   "outputs": [],
   "source": [
    "movie_lens_user_df_has_rated_child = movie_lens_user_df[movie_lens_user_df.has_rated_child_movies == True]"
   ]
  },
  {
   "cell_type": "code",
   "execution_count": 31,
   "metadata": {},
   "outputs": [
    {
     "name": "stderr",
     "output_type": "stream",
     "text": [
      "C:\\Users\\Oghenemaro Anuyah\\AppData\\Local\\conda\\conda\\envs\\my_root\\lib\\site-packages\\ipykernel_launcher.py:1: SettingWithCopyWarning: \n",
      "A value is trying to be set on a copy of a slice from a DataFrame.\n",
      "Try using .loc[row_indexer,col_indexer] = value instead\n",
      "\n",
      "See the caveats in the documentation: http://pandas.pydata.org/pandas-docs/stable/indexing.html#indexing-view-versus-copy\n",
      "  \"\"\"Entry point for launching an IPython kernel.\n"
     ]
    }
   ],
   "source": [
    "movie_lens_user_df_has_rated_child[\"child_movies\"] = [[x for x in y if x in children_movies] for y in movie_lens_user_df_has_rated_child.item]"
   ]
  },
  {
   "cell_type": "code",
   "execution_count": 32,
   "metadata": {},
   "outputs": [
    {
     "data": {
      "text/html": [
       "<div>\n",
       "<style>\n",
       "    .dataframe thead tr:only-child th {\n",
       "        text-align: right;\n",
       "    }\n",
       "\n",
       "    .dataframe thead th {\n",
       "        text-align: left;\n",
       "    }\n",
       "\n",
       "    .dataframe tbody tr th {\n",
       "        vertical-align: top;\n",
       "    }\n",
       "</style>\n",
       "<table border=\"1\" class=\"dataframe\">\n",
       "  <thead>\n",
       "    <tr style=\"text-align: right;\">\n",
       "      <th></th>\n",
       "      <th>user</th>\n",
       "      <th>item</th>\n",
       "      <th>has_rated_child_movies</th>\n",
       "      <th>child_movies</th>\n",
       "    </tr>\n",
       "  </thead>\n",
       "  <tbody>\n",
       "    <tr>\n",
       "      <th>0</th>\n",
       "      <td>1</td>\n",
       "      <td>[1, 2692, 260, 1028, 1287, 1029, 1545, 1035, 5...</td>\n",
       "      <td>True</td>\n",
       "      <td>[1, 260, 1028, 661, 150, 1566, 1962, 3114, 172...</td>\n",
       "    </tr>\n",
       "    <tr>\n",
       "      <th>1</th>\n",
       "      <td>2</td>\n",
       "      <td>[1537, 515, 1544, 2571, 1552, 2067, 21, 3095, ...</td>\n",
       "      <td>True</td>\n",
       "      <td>[2628, 648, 1196, 1198, 1210, 2236, 1225, 1246...</td>\n",
       "    </tr>\n",
       "    <tr>\n",
       "      <th>2</th>\n",
       "      <td>3</td>\n",
       "      <td>[260, 648, 1291, 653, 1431, 1304, 1049, 3868, ...</td>\n",
       "      <td>True</td>\n",
       "      <td>[260, 648, 1291, 3114, 1580, 1196, 1198, 1210,...</td>\n",
       "    </tr>\n",
       "    <tr>\n",
       "      <th>3</th>\n",
       "      <td>4</td>\n",
       "      <td>[2947, 260, 2692, 2951, 3468, 1036, 1954, 1196...</td>\n",
       "      <td>True</td>\n",
       "      <td>[2947, 260, 1954, 1196, 1198, 1210, 1097, 480,...</td>\n",
       "    </tr>\n",
       "    <tr>\n",
       "      <th>4</th>\n",
       "      <td>5</td>\n",
       "      <td>[2560, 515, 6, 3079, 3081, 2058, 3083, 2571, 1...</td>\n",
       "      <td>True</td>\n",
       "      <td>[34, 39, 1580, 2683, 150, 2716, 1721, 1722, 37...</td>\n",
       "    </tr>\n",
       "  </tbody>\n",
       "</table>\n",
       "</div>"
      ],
      "text/plain": [
       "   user                                               item  \\\n",
       "0     1  [1, 2692, 260, 1028, 1287, 1029, 1545, 1035, 5...   \n",
       "1     2  [1537, 515, 1544, 2571, 1552, 2067, 21, 3095, ...   \n",
       "2     3  [260, 648, 1291, 653, 1431, 1304, 1049, 3868, ...   \n",
       "3     4  [2947, 260, 2692, 2951, 3468, 1036, 1954, 1196...   \n",
       "4     5  [2560, 515, 6, 3079, 3081, 2058, 3083, 2571, 1...   \n",
       "\n",
       "   has_rated_child_movies                                       child_movies  \n",
       "0                    True  [1, 260, 1028, 661, 150, 1566, 1962, 3114, 172...  \n",
       "1                    True  [2628, 648, 1196, 1198, 1210, 2236, 1225, 1246...  \n",
       "2                    True  [260, 648, 1291, 3114, 1580, 1196, 1198, 1210,...  \n",
       "3                    True  [2947, 260, 1954, 1196, 1198, 1210, 1097, 480,...  \n",
       "4                    True  [34, 39, 1580, 2683, 150, 2716, 1721, 1722, 37...  "
      ]
     },
     "execution_count": 32,
     "metadata": {},
     "output_type": "execute_result"
    }
   ],
   "source": [
    "movie_lens_user_df_has_rated_child.head(5)"
   ]
  },
  {
   "cell_type": "code",
   "execution_count": 33,
   "metadata": {},
   "outputs": [
    {
     "name": "stderr",
     "output_type": "stream",
     "text": [
      "C:\\Users\\Oghenemaro Anuyah\\AppData\\Local\\conda\\conda\\envs\\my_root\\lib\\site-packages\\ipykernel_launcher.py:1: SettingWithCopyWarning: \n",
      "A value is trying to be set on a copy of a slice from a DataFrame.\n",
      "Try using .loc[row_indexer,col_indexer] = value instead\n",
      "\n",
      "See the caveats in the documentation: http://pandas.pydata.org/pandas-docs/stable/indexing.html#indexing-view-versus-copy\n",
      "  \"\"\"Entry point for launching an IPython kernel.\n"
     ]
    }
   ],
   "source": [
    "movie_lens_user_df_has_rated_child[\"num_child_movies\"] = [len(set(x)) for x in movie_lens_user_df_has_rated_child.child_movies]"
   ]
  },
  {
   "cell_type": "code",
   "execution_count": 34,
   "metadata": {
    "collapsed": true
   },
   "outputs": [],
   "source": [
    "special_movie_lens_users_df = movie_lens_user_df_has_rated_child[[\"user\", \"num_child_movies\"]]\n",
    "\n",
    "# We want only users that have rated at least 2 children's movies\n",
    "\n",
    "special_movie_lens_users_df = special_movie_lens_users_df[special_movie_lens_users_df.num_child_movies >= 2]"
   ]
  },
  {
   "cell_type": "code",
   "execution_count": 35,
   "metadata": {},
   "outputs": [
    {
     "data": {
      "text/html": [
       "<div>\n",
       "<style>\n",
       "    .dataframe thead tr:only-child th {\n",
       "        text-align: right;\n",
       "    }\n",
       "\n",
       "    .dataframe thead th {\n",
       "        text-align: left;\n",
       "    }\n",
       "\n",
       "    .dataframe tbody tr th {\n",
       "        vertical-align: top;\n",
       "    }\n",
       "</style>\n",
       "<table border=\"1\" class=\"dataframe\">\n",
       "  <thead>\n",
       "    <tr style=\"text-align: right;\">\n",
       "      <th></th>\n",
       "      <th>user</th>\n",
       "      <th>num_child_movies</th>\n",
       "    </tr>\n",
       "  </thead>\n",
       "  <tbody>\n",
       "    <tr>\n",
       "      <th>0</th>\n",
       "      <td>1</td>\n",
       "      <td>22</td>\n",
       "    </tr>\n",
       "    <tr>\n",
       "      <th>1</th>\n",
       "      <td>2</td>\n",
       "      <td>18</td>\n",
       "    </tr>\n",
       "    <tr>\n",
       "      <th>2</th>\n",
       "      <td>3</td>\n",
       "      <td>15</td>\n",
       "    </tr>\n",
       "    <tr>\n",
       "      <th>3</th>\n",
       "      <td>4</td>\n",
       "      <td>9</td>\n",
       "    </tr>\n",
       "    <tr>\n",
       "      <th>4</th>\n",
       "      <td>5</td>\n",
       "      <td>13</td>\n",
       "    </tr>\n",
       "  </tbody>\n",
       "</table>\n",
       "</div>"
      ],
      "text/plain": [
       "   user  num_child_movies\n",
       "0     1                22\n",
       "1     2                18\n",
       "2     3                15\n",
       "3     4                 9\n",
       "4     5                13"
      ]
     },
     "execution_count": 35,
     "metadata": {},
     "output_type": "execute_result"
    }
   ],
   "source": [
    "special_movie_lens_users_df.head()"
   ]
  },
  {
   "cell_type": "code",
   "execution_count": 36,
   "metadata": {
    "collapsed": true
   },
   "outputs": [],
   "source": [
    "movie_lens_special_users_ratings = movie_lens_data[movie_lens_data[\"user\"].isin(special_movie_lens_users_df.user)]"
   ]
  },
  {
   "cell_type": "markdown",
   "metadata": {},
   "source": [
    "(i) Special group of movie lens users plus childrenData users that rated at least two movies\n",
    "\n",
    "\n",
    "\n",
    "- Data used in this experiment for training and testing"
   ]
  },
  {
   "cell_type": "code",
   "execution_count": 37,
   "metadata": {
    "collapsed": true
   },
   "outputs": [],
   "source": [
    "movie_lens_special_users_plus_childrenData_train_2_above_ratings = pd.concat([movie_lens_special_users_ratings, dchildrenData_train_users_2_above_ratings])\n",
    "\n",
    "movie_lens_special_users_plus_childrenData_train_2_above_ratings.to_csv(\"../data/output/movie_lens_rated_2_kids_plus_childrenData_users_2_above_ratings.csv\", index = False, header = False, sep = \":\")\n",
    "\n",
    "# Used the same dataset containing childrenData users that rated at least 2 children movies for testing"
   ]
  },
  {
   "cell_type": "markdown",
   "metadata": {},
   "source": [
    "(ii) Special group of movie lens users plus childrenData users that rated at least 10 movies\n",
    "\n",
    "\n",
    "\n",
    "- Data used in this experiment for training and testing"
   ]
  },
  {
   "cell_type": "code",
   "execution_count": 38,
   "metadata": {
    "collapsed": true
   },
   "outputs": [],
   "source": [
    "movie_lens_special_users_plus_childrenData_train_10_above_ratings = pd.concat([movie_lens_special_users_ratings, childrenData_train_users_10_above_ratings])\n",
    "\n",
    "movie_lens_special_users_plus_childrenData_train_10_above_ratings.to_csv(\"../data/output/movie_lens_rated_2_kids_plus_childrenData_users_10_above_ratings.csv\", index = False, header = False, sep = \":\")\n",
    "\n",
    "# Used the same dataset containing childrenData users that rated at least 10 children movies for testing"
   ]
  },
  {
   "cell_type": "code",
   "execution_count": 39,
   "metadata": {},
   "outputs": [
    {
     "data": {
      "text/plain": [
       "1003956"
      ]
     },
     "execution_count": 39,
     "metadata": {},
     "output_type": "execute_result"
    }
   ],
   "source": [
    "len(movie_lens_special_users_plus_childrenData_train_10_above_ratings)"
   ]
  },
  {
   "cell_type": "markdown",
   "metadata": {},
   "source": [
    "(iii) Special group of movie lens users plus childrenData users that rated at least 20 movies\n",
    "\n",
    "- Data used in this experiment for training and testing"
   ]
  },
  {
   "cell_type": "code",
   "execution_count": 40,
   "metadata": {
    "collapsed": true
   },
   "outputs": [],
   "source": [
    "movie_lens_special_users_plus_childrenData_train_20_above_ratings = pd.concat([movie_lens_special_users_ratings, childrenData_train_users_20_above_ratings])\n",
    "\n",
    "movie_lens_special_users_plus_childrenData_train_20_above_ratings.to_csv(\"../data/output/movie_lens_rated_2_kids_plus_childrenData_users_20_above_ratings.csv\", index = False, header = False, sep = \":\")\n",
    "\n",
    "# Used the same dataset containing childrenData users that rated at least 20 children movies for testing"
   ]
  },
  {
   "cell_type": "code",
   "execution_count": 41,
   "metadata": {},
   "outputs": [
    {
     "data": {
      "text/plain": [
       "1000405"
      ]
     },
     "execution_count": 41,
     "metadata": {},
     "output_type": "execute_result"
    }
   ],
   "source": [
    "len(movie_lens_special_users_plus_childrenData_train_20_above_ratings)"
   ]
  },
  {
   "cell_type": "markdown",
   "metadata": {},
   "source": [
    "### Note:\n",
    "\n",
    "Check /data/output for all exported datasets"
   ]
  }
 ],
 "metadata": {
  "anaconda-cloud": {},
  "kernelspec": {
   "display_name": "Python 3",
   "language": "python",
   "name": "python3"
  },
  "language_info": {
   "codemirror_mode": {
    "name": "ipython",
    "version": 3
   },
   "file_extension": ".py",
   "mimetype": "text/x-python",
   "name": "python",
   "nbconvert_exporter": "python",
   "pygments_lexer": "ipython3",
   "version": "3.7.0"
  }
 },
 "nbformat": 4,
 "nbformat_minor": 1
}
