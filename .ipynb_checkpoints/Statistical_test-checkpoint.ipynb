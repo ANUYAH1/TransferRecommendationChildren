{
 "cells": [
  {
   "cell_type": "markdown",
   "metadata": {},
   "source": [
    "### Import Libraries"
   ]
  },
  {
   "cell_type": "code",
   "execution_count": 1,
   "metadata": {},
   "outputs": [],
   "source": [
    "import pandas as pd\n",
    "import numpy as np\n",
    "import scipy.stats as stats"
   ]
  },
  {
   "cell_type": "markdown",
   "metadata": {},
   "source": [
    "### Read the test datasets"
   ]
  },
  {
   "cell_type": "code",
   "execution_count": 75,
   "metadata": {},
   "outputs": [],
   "source": [
    "test_2 = pd.read_csv(\"../data/childrenData_test_set_2_above_ratings.csv\", sep = \":\", names = [\"user\", \"item\", \"rating\"])\n",
    "test_10 = pd.read_csv(\"../data/childrenData_test_set_10_above_ratings.csv\", sep = \":\", names = [\"user\", \"item\", \"rating\"])\n",
    "test_20 = pd.read_csv(\"../data/childrenData_test_set_20_above_ratings.csv\", sep = \":\", names = [\"user\", \"item\", \"rating\"])"
   ]
  },
  {
   "cell_type": "markdown",
   "metadata": {},
   "source": [
    "### Read the test dataset containing predicted ratings based on patterns observed from ML1M users considered \"similar\" to children"
   ]
  },
  {
   "cell_type": "code",
   "execution_count": 108,
   "metadata": {},
   "outputs": [],
   "source": [
    "similar_users_2_test = pd.read_csv(\"similar/biasedmf2\", names = [\"user\", \"item\", \"predicted\"])\n",
    "similar_users_10_test = pd.read_csv(\"similar/biasedmf10\", names = [\"user\", \"item\", \"predicted\"])\n",
    "similar_users_20_test = pd.read_csv(\"similar/biasedmf20\", names = [\"user\", \"item\", \"predicted\"])"
   ]
  },
  {
   "cell_type": "code",
   "execution_count": 109,
   "metadata": {},
   "outputs": [],
   "source": [
    "similar_users_2_test = test_2.merge(similar_users_2_test, on=[\"user\", \"item\"])\n",
    "similar_users_2_test[\"error\"] = similar_users_2_test[\"rating\"] - similar_users_2_test[\"predicted\"]"
   ]
  },
  {
   "cell_type": "code",
   "execution_count": 110,
   "metadata": {},
   "outputs": [],
   "source": [
    "similar_users_10_test = test_10.merge(similar_users_10_test, on=[\"user\", \"item\"])\n",
    "similar_users_10_test[\"error\"] = similar_users_10_test[\"rating\"] - similar_users_10_test[\"predicted\"]"
   ]
  },
  {
   "cell_type": "code",
   "execution_count": 111,
   "metadata": {},
   "outputs": [],
   "source": [
    "similar_users_20_test = test_20.merge(similar_users_20_test, on=[\"user\", \"item\"])\n",
    "similar_users_20_test[\"error\"] = similar_users_20_test[\"rating\"] - similar_users_20_test[\"predicted\"]"
   ]
  },
  {
   "cell_type": "code",
   "execution_count": 112,
   "metadata": {},
   "outputs": [
    {
     "data": {
      "text/plain": [
       "(2032, 2032)"
      ]
     },
     "execution_count": 112,
     "metadata": {},
     "output_type": "execute_result"
    }
   ],
   "source": [
    "len(test_20), len(similar_users_20_test)"
   ]
  },
  {
   "cell_type": "code",
   "execution_count": 113,
   "metadata": {},
   "outputs": [
    {
     "data": {
      "text/plain": [
       "(4302, 4302)"
      ]
     },
     "execution_count": 113,
     "metadata": {},
     "output_type": "execute_result"
    }
   ],
   "source": [
    "len(test_10), len(similar_users_10_test)"
   ]
  },
  {
   "cell_type": "code",
   "execution_count": 114,
   "metadata": {},
   "outputs": [
    {
     "data": {
      "text/plain": [
       "(10057, 10057)"
      ]
     },
     "execution_count": 114,
     "metadata": {},
     "output_type": "execute_result"
    }
   ],
   "source": [
    "len(test_2), len(similar_users_2_test)"
   ]
  },
  {
   "cell_type": "code",
   "execution_count": 115,
   "metadata": {},
   "outputs": [
    {
     "data": {
      "text/plain": [
       "0.8773566321574477"
      ]
     },
     "execution_count": 115,
     "metadata": {},
     "output_type": "execute_result"
    }
   ],
   "source": [
    "np.sqrt(np.mean([x**2 for x in similar_users_10_test.error]))"
   ]
  },
  {
   "cell_type": "markdown",
   "metadata": {},
   "source": [
    "### Read the test dataset comprised of predicted ratings based on the combination of all Movie lens dataset and different variations of childrenData"
   ]
  },
  {
   "cell_type": "code",
   "execution_count": 116,
   "metadata": {},
   "outputs": [],
   "source": [
    "all_users_2_test = pd.read_csv(\"all/biasedmf2\", names = [\"user\", \"item\", \"predicted\"])\n",
    "all_users_10_test = pd.read_csv(\"all/biasedmf10\", names = [\"user\", \"item\", \"predicted\"])\n",
    "all_users_20_test = pd.read_csv(\"all/biasedmf20\", names = [\"user\", \"item\", \"predicted\"])"
   ]
  },
  {
   "cell_type": "code",
   "execution_count": 117,
   "metadata": {},
   "outputs": [],
   "source": [
    "all_users_2_test = test_2.merge(all_users_2_test, on=[\"user\", \"item\"])\n",
    "all_users_2_test[\"error\"] = all_users_2_test[\"rating\"] - all_users_2_test[\"predicted\"]"
   ]
  },
  {
   "cell_type": "code",
   "execution_count": 118,
   "metadata": {},
   "outputs": [],
   "source": [
    "all_users_10_test = test_10.merge(all_users_10_test, on=[\"user\", \"item\"])\n",
    "all_users_10_test[\"error\"] = all_users_10_test[\"rating\"] - all_users_10_test[\"predicted\"]"
   ]
  },
  {
   "cell_type": "code",
   "execution_count": 119,
   "metadata": {},
   "outputs": [],
   "source": [
    "all_users_20_test = test_20.merge(all_users_20_test, on=[\"user\", \"item\"])\n",
    "all_users_20_test[\"error\"] = all_users_20_test[\"rating\"] - all_users_20_test[\"predicted\"]"
   ]
  },
  {
   "cell_type": "code",
   "execution_count": null,
   "metadata": {},
   "outputs": [],
   "source": []
  },
  {
   "cell_type": "code",
   "execution_count": 120,
   "metadata": {},
   "outputs": [],
   "source": [
    "similar_users_2_errors = list(similar_users_2_test.error)\n",
    "all_users_2_errors = list(all_users_2_test.error)"
   ]
  },
  {
   "cell_type": "code",
   "execution_count": 121,
   "metadata": {},
   "outputs": [
    {
     "data": {
      "text/plain": [
       "Ttest_relResult(statistic=-0.7093175344986029, pvalue=0.47814389446794636)"
      ]
     },
     "execution_count": 121,
     "metadata": {},
     "output_type": "execute_result"
    }
   ],
   "source": [
    "stats.ttest_rel(list(similar_users_2_test.error), list(all_users_2_test.error))"
   ]
  },
  {
   "cell_type": "code",
   "execution_count": 122,
   "metadata": {},
   "outputs": [
    {
     "data": {
      "text/plain": [
       "Ttest_relResult(statistic=1.5392695100727507, pvalue=0.12381207660530641)"
      ]
     },
     "execution_count": 122,
     "metadata": {},
     "output_type": "execute_result"
    }
   ],
   "source": [
    "stats.ttest_rel(list(similar_users_10_test.error), list(all_users_10_test.error))"
   ]
  },
  {
   "cell_type": "code",
   "execution_count": 123,
   "metadata": {},
   "outputs": [
    {
     "data": {
      "text/plain": [
       "Ttest_relResult(statistic=2.692008515088161, pvalue=0.007160615260367284)"
      ]
     },
     "execution_count": 123,
     "metadata": {},
     "output_type": "execute_result"
    }
   ],
   "source": [
    "stats.ttest_rel(list(similar_users_20_test.error), list(all_users_20_test.error))"
   ]
  },
  {
   "cell_type": "code",
   "execution_count": null,
   "metadata": {},
   "outputs": [],
   "source": [
    "0.007160615260367284"
   ]
  },
  {
   "cell_type": "code",
   "execution_count": null,
   "metadata": {},
   "outputs": [],
   "source": []
  },
  {
   "cell_type": "code",
   "execution_count": null,
   "metadata": {},
   "outputs": [],
   "source": []
  }
 ],
 "metadata": {
  "anaconda-cloud": {},
  "kernelspec": {
   "display_name": "Python 3",
   "language": "python",
   "name": "python3"
  },
  "language_info": {
   "codemirror_mode": {
    "name": "ipython",
    "version": 3
   },
   "file_extension": ".py",
   "mimetype": "text/x-python",
   "name": "python",
   "nbconvert_exporter": "python",
   "pygments_lexer": "ipython3",
   "version": "3.7.0"
  }
 },
 "nbformat": 4,
 "nbformat_minor": 1
}
