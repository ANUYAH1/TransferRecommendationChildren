{
 "cells": [
  {
   "cell_type": "code",
   "execution_count": 2,
   "metadata": {},
   "outputs": [],
   "source": [
    "library(tidyverse)\n",
    "library(reshape)"
   ]
  },
  {
   "cell_type": "code",
   "execution_count": 3,
   "metadata": {},
   "outputs": [],
   "source": [
    "options(repr.plot.height = 3, repr.plot.width = 6)"
   ]
  },
  {
   "cell_type": "markdown",
   "metadata": {},
   "source": [
    "- This notebook contains the visualization of the rating patterns among children (based on Children's rating\n",
    "dataset) and adults (based on the Movie lens dataset)."
   ]
  },
  {
   "cell_type": "markdown",
   "metadata": {},
   "source": [
    "### Children's Movie Ratings\n"
   ]
  },
  {
   "cell_type": "code",
   "execution_count": 4,
   "metadata": {},
   "outputs": [
    {
     "name": "stderr",
     "output_type": "stream",
     "text": [
      "Parsed with column specification:\n",
      "cols(\n",
      "  user = col_integer(),\n",
      "  item = col_integer(),\n",
      "  rating = col_integer(),\n",
      "  timestamp = col_character()\n",
      ")\n"
     ]
    }
   ],
   "source": [
    "childrenData = read_delim(\"data/input/Children-Movies/ratings.txt\", delim = \",\", col_names = c(\"user\",\"item\", \"rating\", \"timestamp\"))"
   ]
  },
  {
   "cell_type": "code",
   "execution_count": 5,
   "metadata": {},
   "outputs": [],
   "source": [
    "childrenData = childrenData %>% mutate(user = 1000000 + user) %>% \n",
    "            select (user, item, rating)"
   ]
  },
  {
   "cell_type": "code",
   "execution_count": 6,
   "metadata": {},
   "outputs": [
    {
     "data": {
      "text/html": [
       "<table>\n",
       "<thead><tr><th scope=col>user</th><th scope=col>item</th><th scope=col>rating</th></tr></thead>\n",
       "<tbody>\n",
       "\t<tr><td>1000001</td><td>4886   </td><td>5      </td></tr>\n",
       "\t<tr><td>1000002</td><td> 586   </td><td>4      </td></tr>\n",
       "\t<tr><td>1000002</td><td>1032   </td><td>3      </td></tr>\n",
       "</tbody>\n",
       "</table>\n"
      ],
      "text/latex": [
       "\\begin{tabular}{r|lll}\n",
       " user & item & rating\\\\\n",
       "\\hline\n",
       "\t 1000001 & 4886    & 5      \\\\\n",
       "\t 1000002 &  586    & 4      \\\\\n",
       "\t 1000002 & 1032    & 3      \\\\\n",
       "\\end{tabular}\n"
      ],
      "text/markdown": [
       "\n",
       "user | item | rating | \n",
       "|---|---|---|\n",
       "| 1000001 | 4886    | 5       | \n",
       "| 1000002 |  586    | 4       | \n",
       "| 1000002 | 1032    | 3       | \n",
       "\n",
       "\n"
      ],
      "text/plain": [
       "  user    item rating\n",
       "1 1000001 4886 5     \n",
       "2 1000002  586 4     \n",
       "3 1000002 1032 3     "
      ]
     },
     "metadata": {},
     "output_type": "display_data"
    }
   ],
   "source": [
    "head(children_data, 3)"
   ]
  },
  {
   "cell_type": "markdown",
   "metadata": {},
   "source": [
    "### ML1M"
   ]
  },
  {
   "cell_type": "code",
   "execution_count": 7,
   "metadata": {},
   "outputs": [
    {
     "name": "stderr",
     "output_type": "stream",
     "text": [
      "Parsed with column specification:\n",
      "cols(\n",
      "  user = col_integer(),\n",
      "  xa = col_character(),\n",
      "  item = col_integer(),\n",
      "  xb = col_character(),\n",
      "  rating = col_integer(),\n",
      "  xc = col_character(),\n",
      "  timestamp = col_integer()\n",
      ")\n"
     ]
    }
   ],
   "source": [
    "movie_lens_data = read_delim(\"data/input/ML1M/movie_lens_ratings.txt\", delim = \"::\", col_names = c(\"user\", \"xa\", \"item\", \"xb\", \"rating\", \"xc\", \"timestamp\"))"
   ]
  },
  {
   "cell_type": "code",
   "execution_count": 8,
   "metadata": {},
   "outputs": [],
   "source": [
    "movie_lens_data = movie_lens_data %>%\n",
    "            select(user, item, rating)"
   ]
  },
  {
   "cell_type": "code",
   "execution_count": 9,
   "metadata": {},
   "outputs": [
    {
     "data": {
      "text/html": [
       "<table>\n",
       "<thead><tr><th scope=col>user</th><th scope=col>item</th><th scope=col>rating</th></tr></thead>\n",
       "<tbody>\n",
       "\t<tr><td>1   </td><td>1193</td><td>5   </td></tr>\n",
       "\t<tr><td>1   </td><td> 661</td><td>3   </td></tr>\n",
       "\t<tr><td>1   </td><td> 914</td><td>3   </td></tr>\n",
       "</tbody>\n",
       "</table>\n"
      ],
      "text/latex": [
       "\\begin{tabular}{r|lll}\n",
       " user & item & rating\\\\\n",
       "\\hline\n",
       "\t 1    & 1193 & 5   \\\\\n",
       "\t 1    &  661 & 3   \\\\\n",
       "\t 1    &  914 & 3   \\\\\n",
       "\\end{tabular}\n"
      ],
      "text/markdown": [
       "\n",
       "user | item | rating | \n",
       "|---|---|---|\n",
       "| 1    | 1193 | 5    | \n",
       "| 1    |  661 | 3    | \n",
       "| 1    |  914 | 3    | \n",
       "\n",
       "\n"
      ],
      "text/plain": [
       "  user item rating\n",
       "1 1    1193 5     \n",
       "2 1     661 3     \n",
       "3 1     914 3     "
      ]
     },
     "metadata": {},
     "output_type": "display_data"
    }
   ],
   "source": [
    "head(movie_lens_data, 3)"
   ]
  },
  {
   "cell_type": "code",
   "execution_count": 10,
   "metadata": {},
   "outputs": [],
   "source": [
    "movie_lens_data_dist = movie_lens_data %>% \n",
    "                group_by(user) %>%\n",
    "                summarize(num_ratings = n())"
   ]
  },
  {
   "cell_type": "code",
   "execution_count": 11,
   "metadata": {},
   "outputs": [
    {
     "data": {
      "text/html": [
       "<table>\n",
       "<thead><tr><th scope=col>user</th><th scope=col>num_ratings</th></tr></thead>\n",
       "<tbody>\n",
       "\t<tr><td>1  </td><td> 53</td></tr>\n",
       "\t<tr><td>2  </td><td>129</td></tr>\n",
       "\t<tr><td>3  </td><td> 51</td></tr>\n",
       "</tbody>\n",
       "</table>\n"
      ],
      "text/latex": [
       "\\begin{tabular}{r|ll}\n",
       " user & num\\_ratings\\\\\n",
       "\\hline\n",
       "\t 1   &  53\\\\\n",
       "\t 2   & 129\\\\\n",
       "\t 3   &  51\\\\\n",
       "\\end{tabular}\n"
      ],
      "text/markdown": [
       "\n",
       "user | num_ratings | \n",
       "|---|---|---|\n",
       "| 1   |  53 | \n",
       "| 2   | 129 | \n",
       "| 3   |  51 | \n",
       "\n",
       "\n"
      ],
      "text/plain": [
       "  user num_ratings\n",
       "1 1     53        \n",
       "2 2    129        \n",
       "3 3     51        "
      ]
     },
     "metadata": {},
     "output_type": "display_data"
    }
   ],
   "source": [
    "head(movie_lens_data_dist, 3)"
   ]
  },
  {
   "cell_type": "code",
   "execution_count": 12,
   "metadata": {},
   "outputs": [],
   "source": [
    "children_data_dist = childrenData %>% \n",
    "                group_by(user) %>%\n",
    "                summarize(num_ratings = n())"
   ]
  },
  {
   "cell_type": "code",
   "execution_count": 13,
   "metadata": {},
   "outputs": [
    {
     "data": {
      "text/html": [
       "<table>\n",
       "<thead><tr><th scope=col>user</th><th scope=col>num_ratings</th></tr></thead>\n",
       "<tbody>\n",
       "\t<tr><td>1000001</td><td> 1     </td></tr>\n",
       "\t<tr><td>1000002</td><td>54     </td></tr>\n",
       "\t<tr><td>1000003</td><td> 9     </td></tr>\n",
       "</tbody>\n",
       "</table>\n"
      ],
      "text/latex": [
       "\\begin{tabular}{r|ll}\n",
       " user & num\\_ratings\\\\\n",
       "\\hline\n",
       "\t 1000001 &  1     \\\\\n",
       "\t 1000002 & 54     \\\\\n",
       "\t 1000003 &  9     \\\\\n",
       "\\end{tabular}\n"
      ],
      "text/markdown": [
       "\n",
       "user | num_ratings | \n",
       "|---|---|---|\n",
       "| 1000001 |  1      | \n",
       "| 1000002 | 54      | \n",
       "| 1000003 |  9      | \n",
       "\n",
       "\n"
      ],
      "text/plain": [
       "  user    num_ratings\n",
       "1 1000001  1         \n",
       "2 1000002 54         \n",
       "3 1000003  9         "
      ]
     },
     "metadata": {},
     "output_type": "display_data"
    }
   ],
   "source": [
    "head(children_data_dist, 3)"
   ]
  },
  {
   "cell_type": "code",
   "execution_count": 14,
   "metadata": {},
   "outputs": [],
   "source": [
    "children_data_dist$Dataset = \"childrenData\"\n",
    "movie_lens_data_dist$Dataset = \"ML1M\""
   ]
  },
  {
   "cell_type": "code",
   "execution_count": 15,
   "metadata": {},
   "outputs": [],
   "source": [
    "ML1M_Children_data_dist = bind_rows(movie_lens_data_dist, children_data_dist)"
   ]
  },
  {
   "cell_type": "code",
   "execution_count": 16,
   "metadata": {},
   "outputs": [
    {
     "data": {
      "text/html": [
       "<table>\n",
       "<thead><tr><th scope=col>user</th><th scope=col>num_ratings</th><th scope=col>Dataset</th></tr></thead>\n",
       "<tbody>\n",
       "\t<tr><td>1   </td><td> 53 </td><td>ML1M</td></tr>\n",
       "\t<tr><td>2   </td><td>129 </td><td>ML1M</td></tr>\n",
       "\t<tr><td>3   </td><td> 51 </td><td>ML1M</td></tr>\n",
       "</tbody>\n",
       "</table>\n"
      ],
      "text/latex": [
       "\\begin{tabular}{r|lll}\n",
       " user & num\\_ratings & Dataset\\\\\n",
       "\\hline\n",
       "\t 1    &  53  & ML1M\\\\\n",
       "\t 2    & 129  & ML1M\\\\\n",
       "\t 3    &  51  & ML1M\\\\\n",
       "\\end{tabular}\n"
      ],
      "text/markdown": [
       "\n",
       "user | num_ratings | Dataset | \n",
       "|---|---|---|\n",
       "| 1    |  53  | ML1M | \n",
       "| 2    | 129  | ML1M | \n",
       "| 3    |  51  | ML1M | \n",
       "\n",
       "\n"
      ],
      "text/plain": [
       "  user num_ratings Dataset\n",
       "1 1     53         ML1M   \n",
       "2 2    129         ML1M   \n",
       "3 3     51         ML1M   "
      ]
     },
     "metadata": {},
     "output_type": "display_data"
    }
   ],
   "source": [
    "head(ML1M_Children_data_dist, 3)"
   ]
  },
  {
   "cell_type": "markdown",
   "metadata": {},
   "source": [
    "### Visualize rating distribution in Children's movie ratings and ML1M datasets"
   ]
  },
  {
   "cell_type": "code",
   "execution_count": 17,
   "metadata": {},
   "outputs": [
    {
     "name": "stderr",
     "output_type": "stream",
     "text": [
      "Warning message:\n",
      "“Removed 140 rows containing non-finite values (stat_bin).”Warning message:\n",
      "“Removed 3 rows containing missing values (geom_bar).”"
     ]
    },
    {
     "data": {},
     "metadata": {},
     "output_type": "display_data"
    },
    {
     "data": {
      "image/png": "[encoded data removed]",
      "text/plain": [
       "plot without title"
      ]
     },
     "metadata": {},
     "output_type": "display_data"
    }
   ],
   "source": [
    "plot = ggplot(ML1M_Children_data_dist, aes(x = num_ratings, fill = Dataset)) + \n",
    "    geom_histogram(position=\"identity\", binwidth = 4) + #+\n",
    "    xlim(0, 750) +\n",
    "    ylim(0, 300) +\n",
    "    xlab(\"Number of ratings\") +\n",
    "    ylab(\"Number of users\") +\n",
    "    theme(legend.position = c(0.8, 0.8)) +\n",
    "    scale_fill_manual(values = alpha(c(\"red\", \"blue\"), c(1, .3)))\n",
    "plot"
   ]
  },
  {
   "cell_type": "markdown",
   "metadata": {},
   "source": [
    "<b>Figure 1 in main paper: User activity in childrenData and ML1M.</b>"
   ]
  }
 ],
 "metadata": {
  "anaconda-cloud": {},
  "kernelspec": {
   "display_name": "R [conda env:my-r-env]",
   "language": "R",
   "name": "conda-env-my-r-env-r"
  },
  "language_info": {
   "codemirror_mode": "r",
   "file_extension": ".r",
   "mimetype": "text/x-r-source",
   "name": "R",
   "pygments_lexer": "r",
   "version": "3.3.2"
  }
 },
 "nbformat": 4,
 "nbformat_minor": 1
}
